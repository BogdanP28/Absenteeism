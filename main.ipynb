{
 "cells": [
  {
   "cell_type": "markdown",
   "metadata": {},
   "source": [
    "#### Imports"
   ]
  },
  {
   "cell_type": "code",
   "execution_count": 1,
   "metadata": {},
   "outputs": [],
   "source": [
    "import numpy as np\n",
    "import pandas as pd\n",
    "import pickle\n",
    "from sklearn.preprocessing import StandardScaler\n",
    "from sklearn.base import BaseEstimator, TransformerMixin"
   ]
  },
  {
   "cell_type": "markdown",
   "metadata": {},
   "source": [
    "### Main Class\n",
    "###### Read and Clean Data\n"
   ]
  },
  {
   "cell_type": "code",
   "execution_count": 5,
   "metadata": {},
   "outputs": [
    {
     "name": "stdout",
     "output_type": "stream",
     "text": [
      "Finished\n"
     ]
    }
   ],
   "source": [
    "class absenteeism_model():\n",
    "    def __init__(self):\n",
    "        pass\n",
    "    \n",
    "    def load_clean_data(self, data_file):\n",
    "        df = pd.read_csv(data_file, delimiter=',')\n",
    "        self.df_with_prediction = df.copy()\n",
    "        df = df.drop([\"ID\"], axis = 1)\n",
    "        \n",
    "        df['Absenteeism Time in Hours'] = 'NaN'\n",
    "        \n",
    "        # Create dataframe that contains dummy values\n",
    "        # quantitative analysis -> add numeric meaning to our categorical nominal values through dummy variables\n",
    "        # dummy variable -> an explanatory binary variable that equals to:\n",
    "        #                   1. if a certain categorical effect is present\n",
    "        #                   2. if the same effect is absent\n",
    "        \n",
    "        reason_columns = pd.get_dummies(df['Reason for Absence'], drop_first = True) # Convers categorical variable into dummy variables\n",
    "        \n",
    "        # split reason_columns into 4 types\n",
    "        # 1:14  -> group 1 -> Related to diseases\n",
    "        # 15:17 -> group 2 -> Related to pregnancy\n",
    "        # 18:21 -> group 3 -> Poisoning\n",
    "        # 22:   -> group 4 -> Light Reasons for absence\n",
    "        reason_type_1 = reason_columns.loc[:, 1:14].max(axis=1)\n",
    "        reason_type_2 = reason_columns.loc[:, 15:17].max(axis=1)\n",
    "        reason_type_3 = reason_columns.loc[:  18:21].max(axis=1)\n",
    "        reason_type_4 = reason_columns.loc[:, 22:].max(axis=1)\n",
    "        \n",
    "        # To avoid multicollinearity drop \"Reason for Absence\"\n",
    "        df = df.drop(['Reason for Absence'], axis = 1)\n",
    "        \n",
    "        # Concatenate df and the 4 types of reason for absence\n",
    "        df = pd.concat([df, reason_type_1, reason_type_2, reason_type_3, reason_type_4], axis = 1)\n",
    "        \n",
    "        # Assign names to the 4 reason type columns  \n",
    "        column_names = ['Date', 'Transportation Expense', 'Distance to Work', 'Age',\n",
    "                        'Daily Work Load Average', 'Body Mass Index', 'Education', 'Children',\n",
    "                        'Pet', 'Absenteeism Time in Hours', 'Reason_1', 'Reason_2', 'Reason_3', 'Reason_4']       \n",
    "        df.columns = column_names\n",
    "        \n",
    "        # Reorder the columns in df\n",
    "        column_names_reordered = ['Reason_1', 'Reason_2', 'Reason_3', 'Reason_4', 'Date', 'Transportation Expense', \n",
    "                                  'Distance to Work', 'Age', 'Daily Work Load Average', 'Body Mass Index', 'Education', \n",
    "                                  'Children', 'Pet', 'Absenteeism Time in Hours']        \n",
    "        df = df[column_names_reordered]\n",
    "        \n",
    "        # Convert \"Date\" into datetime\n",
    "        df['Date'] = pd.to_datetime(df[\"Date\"], format='%d/%m/%Y')\n",
    "        \n",
    "        # Create list with Month values\n",
    "        list_months = []\n",
    "        for i in range(df.shape[0]):\n",
    "            list_months.append(df['Date'][i].month)\n",
    "        \n",
    "        # Insert value into new column\n",
    "        df[\"Month Value\"] = list_months\n",
    "        \n",
    "        # Create feature day of the week\n",
    "        df['Day of the Week'] = df['Date'].apply(lambda x: x.weekday())\n",
    "        \n",
    "        # Drop the 'Date' column from df\n",
    "        df = df.drop(['Date'], axis = 1)\n",
    "        \n",
    "        # Re-order the columns in df\n",
    "        column_names_upd = ['Reason_1', 'Reason_2', 'Reason_3', 'Reason_4', 'Month Value', 'Day of the Week',\n",
    "                            'Transportation Expense', 'Distance to Work', 'Age',\n",
    "                            'Daily Work Load Average', 'Body Mass Index', 'Education', 'Children',\n",
    "                            'Pet', 'Absenteeism Time in Hours']\n",
    "        \n",
    "        df = df[column_names_upd]\n",
    "        \n",
    "        # Map \"Education\" variables\n",
    "        df['Education'] = df['Education'].map({1:0, 2:1, 3:1, 4:1})\n",
    "        \n",
    "        # Replace the NaN values\n",
    "        df = df.fillna(value=0)\n",
    "        \n",
    "        # Drop irrelevant features\n",
    "        df = df.drop(['Absenteeism Time in Hours'],axis=1)\n",
    "        df = df.drop(['Day of the Week','Daily Work Load Average','Distance to Work'],axis=1)\n",
    "        \n",
    "        self.preprocessed_data = df.copy()\n",
    "        \n",
    "        \n",
    "        \n",
    "        \n",
    "        \n",
    "        \n",
    "        print(\"Finished\")\n",
    "        \n",
    "\n",
    "model = absenteeism_model()\n",
    "model.load_clean_data(\"Absenteeism_data.csv\")"
   ]
  },
  {
   "cell_type": "code",
   "execution_count": null,
   "metadata": {},
   "outputs": [],
   "source": []
  },
  {
   "cell_type": "code",
   "execution_count": null,
   "metadata": {},
   "outputs": [],
   "source": []
  }
 ],
 "metadata": {
  "interpreter": {
   "hash": "719bf381fce8d95044ac93c885891d6eb8810e0c18f9d5f316b2bc9962776baf"
  },
  "kernelspec": {
   "display_name": "Python 3.9.7 ('base')",
   "language": "python",
   "name": "python3"
  },
  "language_info": {
   "codemirror_mode": {
    "name": "ipython",
    "version": 3
   },
   "file_extension": ".py",
   "mimetype": "text/x-python",
   "name": "python",
   "nbconvert_exporter": "python",
   "pygments_lexer": "ipython3",
   "version": "3.9.7"
  },
  "orig_nbformat": 4
 },
 "nbformat": 4,
 "nbformat_minor": 2
}
